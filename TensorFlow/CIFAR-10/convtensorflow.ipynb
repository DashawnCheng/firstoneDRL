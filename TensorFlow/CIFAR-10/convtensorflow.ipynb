{
 "cells": [
  {
   "cell_type": "code",
   "execution_count": 39,
   "metadata": {},
   "outputs": [],
   "source": [
    "import tensorflow as tf\n",
    "import numpy as np"
   ]
  },
  {
   "cell_type": "markdown",
   "metadata": {},
   "source": [
    "## tf.nn.conv2d()\n",
    "input:需要做卷积的输入数据\n",
    "fliter:卷积核\n",
    "strides：图像每一维的步长\n",
    "padding：定义元素边框与元素内容之间的空间“SAME”或者“VALID”，当SAME时为边缘填充，当VALID时为边缘不填充\n",
    "use_cudnn_on_gpu：bool类型，是否使用GPU加速。\n",
    "name:该操作的名称\n",
    "返回值：返回一个张量tensor 即feature map"
   ]
  },
  {
   "cell_type": "code",
   "execution_count": 40,
   "metadata": {
    "scrolled": true
   },
   "outputs": [
    {
     "name": "stdout",
     "output_type": "stream",
     "text": [
      "<tf.Variable 'Variable:0' shape=(10, 9, 9, 4) dtype=float32_ref>\n",
      "Tensor(\"Conv2D:0\", shape=(10, 7, 7, 2), dtype=float32)\n"
     ]
    }
   ],
   "source": [
    "input_data = tf.Variable(np.random.rand(10,9,9,4),dtype=np.float32)\n",
    "filter_data = tf.Variable(np.random.rand(3,3,4,2),dtype= np.float32)\n",
    "y=tf.nn.conv2d(input_data,filter_data,strides=[1,1,1,1],padding='VALID',use_cudnn_on_gpu=True)\n",
    "#y=tf.nn.conv2d(input_data,filter_data,strides=[1,1,1,1],padding='SAME',use_cudnn_on_gpu=True)\n",
    "print(input_data)\n",
    "print(y)"
   ]
  },
  {
   "cell_type": "markdown",
   "metadata": {},
   "source": [
    "## 池化函数\n",
    "最大池化：tf.nn.max_pool(value,ksize,strides,padding,name=None)\n",
    "平均池化：tf.nn.avg_pool(value,ksize,strides,padding,name=None)\n",
    "value:需要池化的输入，一般池化层接在卷积层的后面，所以输入通常是conv2d\n",
    "ksize：池化窗口的大小，一般不在batch和channel上做池化，所以ksize一般是[1,height,width,1]\n",
    "strides:图像每一维的步长，是一个一维向量，长度为4\n",
    "padding：定义元素边框与元素内容之间的空间“SAME”或者“VALID”，当SAME时为边缘填充，当VALID时为边缘不填充\n",
    "name:该操作的名称\n",
    "返回值：tensor"
   ]
  },
  {
   "cell_type": "code",
   "execution_count": 41,
   "metadata": {},
   "outputs": [
    {
     "name": "stdout",
     "output_type": "stream",
     "text": [
      "conv: Tensor(\"Conv2D_1:0\", shape=(10, 5, 5, 2), dtype=float32)\n",
      "pool_pandding_valid: Tensor(\"AvgPool:0\", shape=(10, 3, 3, 2), dtype=float32)\n"
     ]
    }
   ],
   "source": [
    "input_data = tf.Variable(np.random.rand(10,6,6,4),dtype=np.float32)\n",
    "filter_data = tf.Variable(np.random.rand(2,2,4,2),dtype= np.float32)\n",
    "y=tf.nn.conv2d(input_data,filter_data,strides=[1,1,1,1],padding='VALID',use_cudnn_on_gpu=True)\n",
    "#output=tf.nn.max_pool(value=y,ksize=[1,2,2,1],strides=[1,2,2,1],padding=\"SAME\")\n",
    "output=tf.nn.avg_pool(value=y,ksize=[1,2,2,1],strides=[1,2,2,1],padding=\"SAME\")\n",
    "print(\"conv:\",y)\n",
    "print('pool_pandding_valid:',output)"
   ]
  },
  {
   "cell_type": "markdown",
   "metadata": {},
   "source": [
    "# CIFAR_10数据集\n",
    "是一个用于识别普适物体的小数据集，它包含了10个类别的RGB彩色图片"
   ]
  },
  {
   "cell_type": "code",
   "execution_count": 42,
   "metadata": {},
   "outputs": [
    {
     "name": "stdout",
     "output_type": "stream",
     "text": [
      "data file alreay exists:\n",
      "directory already.\n"
     ]
    }
   ],
   "source": [
    "import urllib.request\n",
    "import os\n",
    "import tarfile\n",
    "url = 'https://www.cs.toronto.edu/~kriz/cifar-10-python.tar.gz'\n",
    "filepath='data/cifar-10-python.tar.gz'\n",
    "if not os.path.isfile(filepath):\n",
    "    result = urllib.request.urlretrieve(url,filepath)\n",
    "    print('download:',result)\n",
    "else:\n",
    "    print('data file alreay exists:')\n",
    "if not os.path.exists(\"data/cifar-10-batches-py\"):\n",
    "    tfile = tarfile.open(\"data/cifar-10-python.tar.gz\",'r:gz')\n",
    "    result = tfile.extractall('data/')\n",
    "    print(\"Extracted\")\n",
    "else :\n",
    "    print('directory already.')"
   ]
  },
  {
   "cell_type": "markdown",
   "metadata": {},
   "source": [
    " ## 导入数据"
   ]
  },
  {
   "cell_type": "code",
   "execution_count": 43,
   "metadata": {},
   "outputs": [
    {
     "name": "stdout",
     "output_type": "stream",
     "text": [
      "loading data/cifar-10-batches-py/data_batch_1\n",
      "loading data/cifar-10-batches-py/data_batch_2\n",
      "loading data/cifar-10-batches-py/data_batch_3\n",
      "loading data/cifar-10-batches-py/data_batch_4\n",
      "loading data/cifar-10-batches-py/data_batch_5\n",
      "finished loadding CIFAR-10 data\n"
     ]
    }
   ],
   "source": [
    "import os \n",
    "import numpy as np\n",
    "import pickle as p\n",
    "def load_CIFAR_batch(filename):\n",
    "    with open(filename,'rb')as f:\n",
    "        #一个样本又标签和图像组成\n",
    "        data_dict=p.load(f,encoding='bytes')\n",
    "        images = data_dict[b'data']\n",
    "        labels = data_dict[b'labels']\n",
    "        #把原始数据结构调成为：BCWH\n",
    "        images = images.reshape(10000,3,32,32)\n",
    "        #把通道数据C移动到最后一个维度\n",
    "        images = images.transpose(0,2,3,1)\n",
    "        labels = np.array(labels)\n",
    "        \n",
    "        return images,labels\n",
    "def load_CIFAR_data(data_dir):\n",
    "    images_train=[]\n",
    "    labels_train=[]\n",
    "    for i in range(5):\n",
    "        f=os.path.join(data_dir,'data_batch_%d'%(i+1))\n",
    "        print('loading',f)\n",
    "        #调用load——CIFAR_batch()获得批量的图像及其对应的标签\n",
    "        image_batch,label_batch=load_CIFAR_batch(f)\n",
    "        images_train.append(image_batch)\n",
    "        labels_train.append(label_batch)\n",
    "        Xtrain=np.concatenate(images_train)\n",
    "        Ytrain=np.concatenate(labels_train)\n",
    "        del image_batch,label_batch\n",
    "    \n",
    "    Xtest,Ytest=load_CIFAR_batch(os.path.join(data_dir,'test_batch'))\n",
    "    print('finished loadding CIFAR-10 data')\n",
    "    \n",
    "    #返回训练集的图像和标签，测试集的图像和标签\n",
    "    return Xtrain,Ytrain,Xtest,Ytest\n",
    "data_dir='data/cifar-10-batches-py/'\n",
    "Xtrain,Ytrain,Xtest,Ytest = load_CIFAR_data(data_dir)"
   ]
  },
  {
   "cell_type": "markdown",
   "metadata": {},
   "source": [
    "## 显示数据集信息"
   ]
  },
  {
   "cell_type": "code",
   "execution_count": 44,
   "metadata": {},
   "outputs": [
    {
     "name": "stdout",
     "output_type": "stream",
     "text": [
      "training data shape (50000, 32, 32, 3)\n",
      "training labels shape (50000,)\n",
      "test data shape (10000, 32, 32, 3)\n",
      "test labels shape (10000,)\n"
     ]
    }
   ],
   "source": [
    "print('training data shape',Xtrain.shape)\n",
    "print('training labels shape',Ytrain.shape)\n",
    "print('test data shape',Xtest.shape)\n",
    "print('test labels shape',Ytest.shape)"
   ]
  },
  {
   "cell_type": "markdown",
   "metadata": {},
   "source": [
    "## 查看单项image和label"
   ]
  },
  {
   "cell_type": "code",
   "execution_count": 45,
   "metadata": {},
   "outputs": [
    {
     "data": {
      "text/plain": [
       "<matplotlib.image.AxesImage at 0x1fb714e0>"
      ]
     },
     "execution_count": 45,
     "metadata": {},
     "output_type": "execute_result"
    },
    {
     "data": {
      "image/png": "[encoded data removed]",
      "text/plain": [
       "<Figure size 432x288 with 1 Axes>"
      ]
     },
     "metadata": {},
     "output_type": "display_data"
    }
   ],
   "source": [
    "%matplotlib inline\n",
    "import matplotlib.pyplot as plt\n",
    "#查看image\n",
    "plt.imshow(Xtrain[2])"
   ]
  },
  {
   "cell_type": "code",
   "execution_count": 46,
   "metadata": {},
   "outputs": [
    {
     "name": "stdout",
     "output_type": "stream",
     "text": [
      "9\n"
     ]
    }
   ],
   "source": [
    "#查看label\n",
    "#对应类别信息是查看:http://www.cs.toronto.edu/~kriz/cifar.html\n",
    "print(Ytrain[2])"
   ]
  },
  {
   "cell_type": "code",
   "execution_count": 47,
   "metadata": {},
   "outputs": [
    {
     "data": {
      "image/png": "[encoded data removed]",
      "text/plain": [
       "<Figure size 864x432 with 10 Axes>"
      ]
     },
     "metadata": {},
     "output_type": "display_data"
    }
   ],
   "source": [
    "#定义标签字典，采用独热编码的形式\n",
    "label_dict = {0:\"airplane\",1:\"automobile\",2:\"brid\",3:\"cat\",4:\"deer\",5:\"dog\",6:\"forg\"\n",
    "             ,7:\"horse\",8:\"ship\",9:\"truck\"}\n",
    "#定义显示图像数据及其对应标签的函数\n",
    "def plot_images_labels_prediction(images,labels,prediction,idx,num=10):\n",
    "    fig=plt.gcf()\n",
    "    fig.set_size_inches(12,6)\n",
    "    if num>10:\n",
    "        num=10\n",
    "    for i in range(0,num):\n",
    "        ax=plt.subplot(2,5,1+i)\n",
    "        ax.imshow(images[idx],cmap=\"binary\")\n",
    "        \n",
    "        title=str(i)+','+label_dict[labels[idx]]\n",
    "        if len(prediction)>0:\n",
    "            title+='=>'+label_dict[prediction[idx]]\n",
    "            \n",
    "        ax.set_title(title,fontsize=10)\n",
    "        \n",
    "        idx +=1\n",
    "    plt.show()\n",
    "plot_images_labels_prediction(Xtest,Ytest,[],0,10)"
   ]
  },
  {
   "cell_type": "markdown",
   "metadata": {},
   "source": [
    "## 对数据进行预处理"
   ]
  },
  {
   "cell_type": "code",
   "execution_count": 48,
   "metadata": {},
   "outputs": [
    {
     "data": {
      "text/plain": [
       "array([59, 62, 63], dtype=uint8)"
      ]
     },
     "execution_count": 48,
     "metadata": {},
     "output_type": "execute_result"
    }
   ],
   "source": [
    "#查看图像数据信息\n",
    "#显示第一个图的第一个像素点\n",
    "Xtrain[0][0][0]"
   ]
  },
  {
   "cell_type": "code",
   "execution_count": 68,
   "metadata": {
    "collapsed": true
   },
   "outputs": [],
   "source": [
    "#将图像进行数字标准化\n",
    "Xtrain_normalize = Xtrain.astype(\"float32\")/255.0\n",
    "Xtest_normalize = Xtest.astype(\"float32\")/255.0"
   ]
  },
  {
   "cell_type": "code",
   "execution_count": 50,
   "metadata": {},
   "outputs": [
    {
     "data": {
      "text/plain": [
       "array([0.23137255, 0.24313726, 0.24705882], dtype=float32)"
      ]
     },
     "execution_count": 50,
     "metadata": {},
     "output_type": "execute_result"
    }
   ],
   "source": [
    "#查看预处理后图像数据信息\n",
    "Xtrain_normalize[0][0][0]"
   ]
  },
  {
   "cell_type": "markdown",
   "metadata": {},
   "source": [
    "## 标签数据预处理"
   ]
  },
  {
   "cell_type": "code",
   "execution_count": 51,
   "metadata": {},
   "outputs": [
    {
     "data": {
      "text/plain": [
       "array([6, 9, 9, 4, 1, 1, 2, 7, 8, 3])"
      ]
     },
     "execution_count": 51,
     "metadata": {},
     "output_type": "execute_result"
    }
   ],
   "source": [
    "Ytrain[:10]"
   ]
  },
  {
   "cell_type": "markdown",
   "metadata": {},
   "source": [
    "### 独热编码 能够处理非连续型数值特征\n",
    "#### 在一定程度上也扩充了特征"
   ]
  },
  {
   "cell_type": "code",
   "execution_count": 52,
   "metadata": {
    "scrolled": true
   },
   "outputs": [
    {
     "name": "stderr",
     "output_type": "stream",
     "text": [
      "C:\\Users\\zeus\\Anaconda3\\envs\\tensorflow-gpu\\lib\\site-packages\\sklearn\\preprocessing\\_encoders.py:415: FutureWarning: The handling of integer data will change in version 0.22. Currently, the categories are determined based on the range [0, max(values)], while in the future they will be determined based on the unique values.\n",
      "If you want the future behaviour and silence this warning, you can specify \"categories='auto'\".\n",
      "In case you used a LabelEncoder before this OneHotEncoder to convert the categories to integers, then you can now use the OneHotEncoder directly.\n",
      "  warnings.warn(msg, FutureWarning)\n"
     ]
    }
   ],
   "source": [
    "from sklearn.preprocessing import OneHotEncoder\n",
    "\n",
    "encoder = OneHotEncoder(sparse=False)\n",
    "\n",
    "yy = [[0],[1],[2],[3],[4],[5],[6],[7],[8],[9]]\n",
    "\n",
    "encoder.fit(yy)\n",
    "Ytrain_reshape = Ytrain.reshape(-1,1)\n",
    "Ytrain_onehot = encoder.transform(Ytrain_reshape)\n",
    "Ytest_reshape = Ytest.reshape(-1,1)\n",
    "Ytest_onehot = encoder.transform(Ytest_reshape)"
   ]
  },
  {
   "cell_type": "code",
   "execution_count": 53,
   "metadata": {
    "scrolled": true
   },
   "outputs": [
    {
     "data": {
      "text/plain": [
       "(50000, 10)"
      ]
     },
     "execution_count": 53,
     "metadata": {},
     "output_type": "execute_result"
    }
   ],
   "source": [
    "Ytrain_onehot.shape"
   ]
  },
  {
   "cell_type": "code",
   "execution_count": 54,
   "metadata": {},
   "outputs": [
    {
     "data": {
      "text/plain": [
       "array([6, 9, 9, 4, 1])"
      ]
     },
     "execution_count": 54,
     "metadata": {},
     "output_type": "execute_result"
    }
   ],
   "source": [
    "Ytrain[:5]"
   ]
  },
  {
   "cell_type": "code",
   "execution_count": 55,
   "metadata": {},
   "outputs": [
    {
     "data": {
      "text/plain": [
       "array([[0., 0., 0., 0., 0., 0., 1., 0., 0., 0.],\n",
       "       [0., 0., 0., 0., 0., 0., 0., 0., 0., 1.],\n",
       "       [0., 0., 0., 0., 0., 0., 0., 0., 0., 1.],\n",
       "       [0., 0., 0., 0., 1., 0., 0., 0., 0., 0.],\n",
       "       [0., 1., 0., 0., 0., 0., 0., 0., 0., 0.]])"
      ]
     },
     "execution_count": 55,
     "metadata": {},
     "output_type": "execute_result"
    }
   ],
   "source": [
    "Ytrain_onehot[:5]"
   ]
  },
  {
   "cell_type": "markdown",
   "metadata": {},
   "source": [
    "# 建立CIFAR-10图像分类模型"
   ]
  },
  {
   "cell_type": "code",
   "execution_count": 56,
   "metadata": {
    "collapsed": true
   },
   "outputs": [],
   "source": [
    "tf.reset_default_graph()"
   ]
  },
  {
   "cell_type": "code",
   "execution_count": 57,
   "metadata": {
    "collapsed": true
   },
   "outputs": [],
   "source": [
    "#定义权值\n",
    "def weight(shape):\n",
    "    #在构建模型时，需要使用tfVariavle来创建一个变量\n",
    "    #在训练师，这个变量不断更新\n",
    "    #使用函数tf.truncated_normal（截断正态分布）生成标准差为0.1的随机数来初始化权重\n",
    "    return tf.Variable(tf.truncated_normal(shape,stddev=0.1,name='W'))\n",
    "\n",
    "#定义偏置b\n",
    "#初始化为0.1\n",
    "def bias(shape):\n",
    "    return tf.Variable(tf.constant(0.1,shape=shape),name='b')\n",
    "#定义卷积操作\n",
    "#步长为1,padding为'SAME'\n",
    "def conv2d(x,W):\n",
    "    return tf.nn.conv2d(x,W,strides=[1,1,1,1],padding= 'SAME',use_cudnn_on_gpu=True)\n",
    "#定义池化操作\n",
    "#步长为2 即原始尺寸的长和宽除以2\n",
    "def max_pool_2x2(x):\n",
    "    return tf.nn.max_pool(x,ksize=[1,2,2,1],strides=[1,2,2,1],padding='SAME')\n"
   ]
  },
  {
   "cell_type": "markdown",
   "metadata": {},
   "source": [
    "# 定义网络结构"
   ]
  },
  {
   "cell_type": "code",
   "execution_count": 58,
   "metadata": {
    "collapsed": true
   },
   "outputs": [],
   "source": [
    "#输入层\n",
    "#32*32图像，通道为3（RGB）\n",
    "with tf.name_scope('input_layer'):\n",
    "    x = tf.placeholder('float',shape=[None,32,32,3],name=\"x\")\n",
    "#第一个卷积层\n",
    "#输入通道：3，输出通道：32，卷积后图像尺寸不变，依然是32*32\n",
    "with tf.name_scope('conv_1'):\n",
    "    W1=weight([3,3,3,32])#[k_width,k_height,input_chn,output_chn]\n",
    "    b1=bias([32])#与putput_chn一致\n",
    "    conv_1=conv2d(x,W1)+b1\n",
    "    conv_1=tf.nn.relu(conv_1)\n",
    "#第一个池化层\n",
    "with tf.name_scope('pool_1'):\n",
    "    pool_1=max_pool_2x2(conv_1)\n",
    "#第二个卷积层\n",
    "with tf.name_scope('conv_2'):\n",
    "    W2=weight([3,3,32,64])#[k_width,k_height,input_chn,output_chn]\n",
    "    b2=bias([64])#与putput_chn一致\n",
    "    conv_2=conv2d(pool_1,W2)+b2\n",
    "    conv_2=tf.nn.relu(conv_2)\n",
    "#第二个池化层\n",
    "with tf.name_scope('pool_2'):\n",
    "    pool_2=max_pool_2x2(conv_2)\n",
    "#全连接层\n",
    "#将第二个池化层的64个8x8的图像转换为一维的向量，长度是64*8*8=4096\n",
    "#128个神经元\n",
    "with tf.name_scope('fc'):\n",
    "    W3=weight([4096,128])#共有128个神经元\n",
    "    b3=bias([128])\n",
    "    flat = tf.reshape(pool_2,[-1,4096])\n",
    "    h = tf.nn.relu(tf.matmul(flat,W3)+b3)\n",
    "    h_dropout= tf.nn.dropout(h,keep_prob=0.8) #避免过拟合\n",
    "#输出层\n",
    "#输出层共有10个神经元\n",
    "with tf.name_scope('output_layer'):\n",
    "    W4 = weight([128,10])\n",
    "    b4 = bias([10])\n",
    "    pred = tf.nn.softmax(tf.matmul(h_dropout,W4)+b4)"
   ]
  },
  {
   "cell_type": "markdown",
   "metadata": {},
   "source": [
    "# 构建模型"
   ]
  },
  {
   "cell_type": "code",
   "execution_count": 59,
   "metadata": {},
   "outputs": [],
   "source": [
    "with tf.name_scope(\"optimizer\"):\n",
    "    #定义占位符\n",
    "    y=tf.placeholder(\"float\",shape=[None,10],\n",
    "                     name=\"label\")\n",
    "    #定义损失函数\n",
    "    loss_function = tf.reduce_mean(\n",
    "    tf.nn.softmax_cross_entropy_with_logits(logits=pred,labels=y))\n",
    "    #选择优化器\n",
    "    optimizer = tf.train.AdamOptimizer(learning_rate=0.0001)\\\n",
    "    .minimize(loss_function)"
   ]
  },
  {
   "cell_type": "markdown",
   "metadata": {},
   "source": [
    "# 定义准确率"
   ]
  },
  {
   "cell_type": "code",
   "execution_count": 60,
   "metadata": {},
   "outputs": [],
   "source": [
    "with tf.name_scope(\"evaluation\"):\n",
    "    correct_prediction = tf.equal(tf.argmax(pred,1),\n",
    "                                 tf.arg_max(y,1))\n",
    "    accuracy = tf.reduce_mean(tf.cast(correct_prediction,\"float\"))"
   ]
  },
  {
   "cell_type": "markdown",
   "metadata": {},
   "source": [
    "# 训练模型"
   ]
  },
  {
   "cell_type": "markdown",
   "metadata": {},
   "source": [
    "## 启动会话"
   ]
  },
  {
   "cell_type": "code",
   "execution_count": 61,
   "metadata": {
    "collapsed": true
   },
   "outputs": [],
   "source": [
    "from time import time \n",
    "train_epochs = 5\n",
    "batch_size = 50\n",
    "total_batch = int(len(Xtrain)/batch_size)\n",
    "epoch_list =[];accuracy_list =[];loss_list=[];\n",
    "epoch=tf.Variable(0,name='epoch',trainable=False)\n",
    "\n",
    "startTime=time()\n",
    "sess=tf.Session()\n",
    "init = tf.global_variables_initializer()\n",
    "sess.run(init)"
   ]
  },
  {
   "cell_type": "markdown",
   "metadata": {},
   "source": [
    "## 断电续训"
   ]
  },
  {
   "cell_type": "code",
   "execution_count": 62,
   "metadata": {},
   "outputs": [
    {
     "name": "stdout",
     "output_type": "stream",
     "text": [
      "INFO:tensorflow:Restoring parameters from CIFAR10_log/CIFAR10_cnn_model.cpkt-5\n",
      "training starts form 15 epoch.\n"
     ]
    }
   ],
   "source": [
    "#设置检查点存储目录\n",
    "ckpt_dir=\"CIFAR10_log/\"\n",
    "if not os.path.exists(ckpt_dir):\n",
    "    os.makedirs(ckpt_dir)\n",
    "#生成saver\n",
    "saver = tf.train.Saver(max_to_keep=1)\n",
    "#如果有检查点文件，读取最新的检查点文件，恢复各种变量值\n",
    "ckpt = tf.train.latest_checkpoint(ckpt_dir)\n",
    "if ckpt!=None:\n",
    "    saver.restore(sess,ckpt)#加载所有的参数\n",
    "    #从这里开始就可以直接使用模型进行预测，或者接着继续训练了\n",
    "else :\n",
    "    print(\"Trainning from scratch.\")\n",
    "#获取续训参数\n",
    "start =sess.run(epoch)\n",
    "print(\"training starts form {} epoch.\".format(start+1))"
   ]
  },
  {
   "cell_type": "markdown",
   "metadata": {},
   "source": [
    "## 迭代训练"
   ]
  },
  {
   "cell_type": "code",
   "execution_count": 63,
   "metadata": {},
   "outputs": [
    {
     "name": "stdout",
     "output_type": "stream",
     "text": [
      "Train finished takes: 0.2578125\n"
     ]
    }
   ],
   "source": [
    "def get_train_batch(number,batch_size):\n",
    "    return Xtrain_normalize[number*batch_size:(number+1)*batch_size],\\\n",
    "            Ytrain_onehot[number*batch_size:(number+1)*batch_size]\n",
    "for ep in range(start,train_epochs):\n",
    "    for i in range (total_batch):\n",
    "        batch_x,batch_y =get_train_batch(i,batch_size)\n",
    "        sess.run(optimizer,feed_dict={x:batch_x,y:batch_y})\n",
    "        if i%100==0:\n",
    "            print(\"step {} \".format(i),\"finished\")\n",
    "    loss,acc= sess.run([loss_function,accuracy],feed_dict={x:batch_x,y:batch_y})\n",
    "    epoch_list.append(ep+1)\n",
    "    loss_list.append(loss)\n",
    "    accuracy_list.append(acc)\n",
    "    \n",
    "    print(\"Train epoch:\",'%02d'%(sess.run(epoch)+1),\\\n",
    "            \"loss=\",\"{:.6f}\".format(loss),\"Accuracy=\",acc)\n",
    "    #保存检查点\n",
    "    saver.save(sess,ckpt_dir+\"CIFAR10_cnn_model.cpkt\",global_step=ep+1)\n",
    "    sess.run(epoch.assign(ep+1))\n",
    "    \n",
    "duration = time()-startTime\n",
    "print(\"Train finished takes:\",duration)"
   ]
  },
  {
   "cell_type": "markdown",
   "metadata": {},
   "source": [
    "### 改进方式 增加网络层数 增加迭代次数 增加全连接层数 增加全连接层的神经元的个数 数据扩增等"
   ]
  },
  {
   "cell_type": "markdown",
   "metadata": {},
   "source": [
    "## 可视化损失值"
   ]
  },
  {
   "cell_type": "code",
   "execution_count": 64,
   "metadata": {},
   "outputs": [
    {
     "data": {
      "text/plain": [
       "<matplotlib.legend.Legend at 0x1b7ec860>"
      ]
     },
     "execution_count": 64,
     "metadata": {},
     "output_type": "execute_result"
    },
    {
     "data": {
      "image/png": "[encoded data removed]",
      "text/plain": [
       "<Figure size 288x144 with 1 Axes>"
      ]
     },
     "metadata": {},
     "output_type": "display_data"
    }
   ],
   "source": [
    "%matplotlib inline \n",
    "\n",
    "fig =plt.gcf()\n",
    "fig.set_size_inches(4,2)\n",
    "plt.plot(epoch_list,loss_list,label=\"loss\")\n",
    "plt.ylabel('loss')\n",
    "plt.xlabel('epoch')\n",
    "plt.legend(['loss'],loc='upper right')"
   ]
  },
  {
   "cell_type": "markdown",
   "metadata": {},
   "source": [
    "## 可视化准确率"
   ]
  },
  {
   "cell_type": "code",
   "execution_count": 65,
   "metadata": {},
   "outputs": [
    {
     "data": {
      "image/png": "[encoded data removed]",
      "text/plain": [
       "<Figure size 288x144 with 1 Axes>"
      ]
     },
     "metadata": {},
     "output_type": "display_data"
    }
   ],
   "source": [
    "plt.plot (epoch_list,accuracy_list,label=\"accuracy\")\n",
    "fig = plt.gcf()\n",
    "fig.set_size_inches(4,2)\n",
    "plt.ylim(0,1,1)\n",
    "plt.ylabel('accuracy')\n",
    "plt.xlabel('epoch')\n",
    "plt.legend()\n",
    "plt.show()"
   ]
  },
  {
   "cell_type": "markdown",
   "metadata": {},
   "source": [
    "# 模型评估及预测"
   ]
  },
  {
   "cell_type": "markdown",
   "metadata": {},
   "source": [
    "## 计算测试集上的准确率"
   ]
  },
  {
   "cell_type": "code",
   "execution_count": 69,
   "metadata": {},
   "outputs": [
    {
     "name": "stdout",
     "output_type": "stream",
     "text": [
      "Test accuracy:0.453800\n"
     ]
    }
   ],
   "source": [
    "test_total_batch = int(len(Xtest_normalize)/batch_size)\n",
    "test_acc_sum=0.0\n",
    "for i in range(test_total_batch):\n",
    "    test_image_batch=Xtest_normalize[i*batch_size:(i+1)*batch_size]\n",
    "    test_label_batch=Ytest_onehot[i*batch_size:(i+1)*batch_size]\n",
    "    test_batch_acc=sess.run(accuracy,feed_dict={x:test_image_batch,y:test_label_batch})\n",
    "    test_acc_sum += test_batch_acc\n",
    "test_acc = float(test_acc_sum/test_total_batch)\n",
    "print(\"Test accuracy:{:.6f}\".format(test_acc))"
   ]
  },
  {
   "cell_type": "markdown",
   "metadata": {},
   "source": [
    "### 利用模型进行预测"
   ]
  },
  {
   "cell_type": "code",
   "execution_count": 76,
   "metadata": {},
   "outputs": [],
   "source": [
    "test_pred=sess.run(pred,feed_dict={x:Xtest_normalize[:10]})\n",
    "prediction_result=sess.run(tf.arg_max(test_pred,1))"
   ]
  },
  {
   "cell_type": "markdown",
   "metadata": {},
   "source": [
    "### 可视化预测结果"
   ]
  },
  {
   "cell_type": "code",
   "execution_count": 79,
   "metadata": {},
   "outputs": [
    {
     "data": {
      "image/png": "[encoded data removed]",
      "text/plain": [
       "<Figure size 864x432 with 10 Axes>"
      ]
     },
     "metadata": {},
     "output_type": "display_data"
    }
   ],
   "source": [
    "plot_images_labels_prediction(Xtest,Ytest,prediction_result,0,10)"
   ]
  },
  {
   "cell_type": "code",
   "execution_count": null,
   "metadata": {
    "collapsed": true
   },
   "outputs": [],
   "source": []
  }
 ],
 "metadata": {
  "kernelspec": {
   "display_name": "Python 3",
   "language": "python",
   "name": "python3"
  },
  "language_info": {
   "codemirror_mode": {
    "name": "ipython",
    "version": 3
   },
   "file_extension": ".py",
   "mimetype": "text/x-python",
   "name": "python",
   "nbconvert_exporter": "python",
   "pygments_lexer": "ipython3",
   "version": "3.6.2"
  }
 },
 "nbformat": 4,
 "nbformat_minor": 2
}
